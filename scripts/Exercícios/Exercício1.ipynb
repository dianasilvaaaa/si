{
 "cells": [
  {
   "cell_type": "markdown",
   "metadata": {},
   "source": [
    "\n",
    "## Exercise 1: NumPy array Indexing/Slicing\n",
    "\n",
    "1.1) Neste exercício, vamos utilizar o conjunto de dados da íris. Carregue\n",
    "o ficheiro “iris.csv” utilizando o método apropriado para este tipo de ficheiro\n",
    "(utilize as novas funções do pacote).\n",
    "\n"
   ]
  },
  {
   "cell_type": "code",
   "execution_count": 1,
   "metadata": {},
   "outputs": [
    {
     "name": "stdout",
     "output_type": "stream",
     "text": [
      "[[1.00e+00 5.10e+00 3.50e+00 1.40e+00 2.00e-01]\n",
      " [2.00e+00 4.90e+00 3.00e+00 1.40e+00 2.00e-01]\n",
      " [3.00e+00 4.70e+00 3.20e+00 1.30e+00 2.00e-01]\n",
      " [4.00e+00 4.60e+00 3.10e+00 1.50e+00 2.00e-01]\n",
      " [5.00e+00 5.00e+00 3.60e+00 1.40e+00 2.00e-01]\n",
      " [6.00e+00 5.40e+00 3.90e+00 1.70e+00 4.00e-01]\n",
      " [7.00e+00 4.60e+00 3.40e+00 1.40e+00 3.00e-01]\n",
      " [8.00e+00 5.00e+00 3.40e+00 1.50e+00 2.00e-01]\n",
      " [9.00e+00 4.40e+00 2.90e+00 1.40e+00 2.00e-01]\n",
      " [1.00e+01 4.90e+00 3.10e+00 1.50e+00 1.00e-01]\n",
      " [1.10e+01 5.40e+00 3.70e+00 1.50e+00 2.00e-01]\n",
      " [1.20e+01 4.80e+00 3.40e+00 1.60e+00 2.00e-01]\n",
      " [1.30e+01 4.80e+00 3.00e+00 1.40e+00 1.00e-01]\n",
      " [1.40e+01 4.30e+00 3.00e+00 1.10e+00 1.00e-01]\n",
      " [1.50e+01 5.80e+00 4.00e+00 1.20e+00 2.00e-01]\n",
      " [1.60e+01 5.70e+00 4.40e+00 1.50e+00 4.00e-01]\n",
      " [1.70e+01 5.40e+00 3.90e+00 1.30e+00 4.00e-01]\n",
      " [1.80e+01 5.10e+00 3.50e+00 1.40e+00 3.00e-01]\n",
      " [1.90e+01 5.70e+00 3.80e+00 1.70e+00 3.00e-01]\n",
      " [2.00e+01 5.10e+00 3.80e+00 1.50e+00 3.00e-01]\n",
      " [2.10e+01 5.40e+00 3.40e+00 1.70e+00 2.00e-01]\n",
      " [2.20e+01 5.10e+00 3.70e+00 1.50e+00 4.00e-01]\n",
      " [2.30e+01 4.60e+00 3.60e+00 1.00e+00 2.00e-01]\n",
      " [2.40e+01 5.10e+00 3.30e+00 1.70e+00 5.00e-01]\n",
      " [2.50e+01 4.80e+00 3.40e+00 1.90e+00 2.00e-01]\n",
      " [2.60e+01 5.00e+00 3.00e+00 1.60e+00 2.00e-01]\n",
      " [2.70e+01 5.00e+00 3.40e+00 1.60e+00 4.00e-01]\n",
      " [2.80e+01 5.20e+00 3.50e+00 1.50e+00 2.00e-01]\n",
      " [2.90e+01 5.20e+00 3.40e+00 1.40e+00 2.00e-01]\n",
      " [3.00e+01 4.70e+00 3.20e+00 1.60e+00 2.00e-01]\n",
      " [3.10e+01 4.80e+00 3.10e+00 1.60e+00 2.00e-01]\n",
      " [3.20e+01 5.40e+00 3.40e+00 1.50e+00 4.00e-01]\n",
      " [3.30e+01 5.20e+00 4.10e+00 1.50e+00 1.00e-01]\n",
      " [3.40e+01 5.50e+00 4.20e+00 1.40e+00 2.00e-01]\n",
      " [3.50e+01 4.90e+00 3.10e+00 1.50e+00 2.00e-01]\n",
      " [3.60e+01 5.00e+00 3.20e+00 1.20e+00 2.00e-01]\n",
      " [3.70e+01 5.50e+00 3.50e+00 1.30e+00 2.00e-01]\n",
      " [3.80e+01 4.90e+00 3.60e+00 1.40e+00 1.00e-01]\n",
      " [3.90e+01 4.40e+00 3.00e+00 1.30e+00 2.00e-01]\n",
      " [4.00e+01 5.10e+00 3.40e+00 1.50e+00 2.00e-01]\n",
      " [4.10e+01 5.00e+00 3.50e+00 1.30e+00 3.00e-01]\n",
      " [4.20e+01 4.50e+00 2.30e+00 1.30e+00 3.00e-01]\n",
      " [4.30e+01 4.40e+00 3.20e+00 1.30e+00 2.00e-01]\n",
      " [4.40e+01 5.00e+00 3.50e+00 1.60e+00 6.00e-01]\n",
      " [4.50e+01 5.10e+00 3.80e+00 1.90e+00 4.00e-01]\n",
      " [4.60e+01 4.80e+00 3.00e+00 1.40e+00 3.00e-01]\n",
      " [4.70e+01 5.10e+00 3.80e+00 1.60e+00 2.00e-01]\n",
      " [4.80e+01 4.60e+00 3.20e+00 1.40e+00 2.00e-01]\n",
      " [4.90e+01 5.30e+00 3.70e+00 1.50e+00 2.00e-01]\n",
      " [5.00e+01 5.00e+00 3.30e+00 1.40e+00 2.00e-01]\n",
      " [5.10e+01 7.00e+00 3.20e+00 4.70e+00 1.40e+00]\n",
      " [5.20e+01 6.40e+00 3.20e+00 4.50e+00 1.50e+00]\n",
      " [5.30e+01 6.90e+00 3.10e+00 4.90e+00 1.50e+00]\n",
      " [5.40e+01 5.50e+00 2.30e+00 4.00e+00 1.30e+00]\n",
      " [5.50e+01 6.50e+00 2.80e+00 4.60e+00 1.50e+00]\n",
      " [5.60e+01 5.70e+00 2.80e+00 4.50e+00 1.30e+00]\n",
      " [5.70e+01 6.30e+00 3.30e+00 4.70e+00 1.60e+00]\n",
      " [5.80e+01 4.90e+00 2.40e+00 3.30e+00 1.00e+00]\n",
      " [5.90e+01 6.60e+00 2.90e+00 4.60e+00 1.30e+00]\n",
      " [6.00e+01 5.20e+00 2.70e+00 3.90e+00 1.40e+00]\n",
      " [6.10e+01 5.00e+00 2.00e+00 3.50e+00 1.00e+00]\n",
      " [6.20e+01 5.90e+00 3.00e+00 4.20e+00 1.50e+00]\n",
      " [6.30e+01 6.00e+00 2.20e+00 4.00e+00 1.00e+00]\n",
      " [6.40e+01 6.10e+00 2.90e+00 4.70e+00 1.40e+00]\n",
      " [6.50e+01 5.60e+00 2.90e+00 3.60e+00 1.30e+00]\n",
      " [6.60e+01 6.70e+00 3.10e+00 4.40e+00 1.40e+00]\n",
      " [6.70e+01 5.60e+00 3.00e+00 4.50e+00 1.50e+00]\n",
      " [6.80e+01 5.80e+00 2.70e+00 4.10e+00 1.00e+00]\n",
      " [6.90e+01 6.20e+00 2.20e+00 4.50e+00 1.50e+00]\n",
      " [7.00e+01 5.60e+00 2.50e+00 3.90e+00 1.10e+00]\n",
      " [7.10e+01 5.90e+00 3.20e+00 4.80e+00 1.80e+00]\n",
      " [7.20e+01 6.10e+00 2.80e+00 4.00e+00 1.30e+00]\n",
      " [7.30e+01 6.30e+00 2.50e+00 4.90e+00 1.50e+00]\n",
      " [7.40e+01 6.10e+00 2.80e+00 4.70e+00 1.20e+00]\n",
      " [7.50e+01 6.40e+00 2.90e+00 4.30e+00 1.30e+00]\n",
      " [7.60e+01 6.60e+00 3.00e+00 4.40e+00 1.40e+00]\n",
      " [7.70e+01 6.80e+00 2.80e+00 4.80e+00 1.40e+00]\n",
      " [7.80e+01 6.70e+00 3.00e+00 5.00e+00 1.70e+00]\n",
      " [7.90e+01 6.00e+00 2.90e+00 4.50e+00 1.50e+00]\n",
      " [8.00e+01 5.70e+00 2.60e+00 3.50e+00 1.00e+00]\n",
      " [8.10e+01 5.50e+00 2.40e+00 3.80e+00 1.10e+00]\n",
      " [8.20e+01 5.50e+00 2.40e+00 3.70e+00 1.00e+00]\n",
      " [8.30e+01 5.80e+00 2.70e+00 3.90e+00 1.20e+00]\n",
      " [8.40e+01 6.00e+00 2.70e+00 5.10e+00 1.60e+00]\n",
      " [8.50e+01 5.40e+00 3.00e+00 4.50e+00 1.50e+00]\n",
      " [8.60e+01 6.00e+00 3.40e+00 4.50e+00 1.60e+00]\n",
      " [8.70e+01 6.70e+00 3.10e+00 4.70e+00 1.50e+00]\n",
      " [8.80e+01 6.30e+00 2.30e+00 4.40e+00 1.30e+00]\n",
      " [8.90e+01 5.60e+00 3.00e+00 4.10e+00 1.30e+00]\n",
      " [9.00e+01 5.50e+00 2.50e+00 4.00e+00 1.30e+00]\n",
      " [9.10e+01 5.50e+00 2.60e+00 4.40e+00 1.20e+00]\n",
      " [9.20e+01 6.10e+00 3.00e+00 4.60e+00 1.40e+00]\n",
      " [9.30e+01 5.80e+00 2.60e+00 4.00e+00 1.20e+00]\n",
      " [9.40e+01 5.00e+00 2.30e+00 3.30e+00 1.00e+00]\n",
      " [9.50e+01 5.60e+00 2.70e+00 4.20e+00 1.30e+00]\n",
      " [9.60e+01 5.70e+00 3.00e+00 4.20e+00 1.20e+00]\n",
      " [9.70e+01 5.70e+00 2.90e+00 4.20e+00 1.30e+00]\n",
      " [9.80e+01 6.20e+00 2.90e+00 4.30e+00 1.30e+00]\n",
      " [9.90e+01 5.10e+00 2.50e+00 3.00e+00 1.10e+00]\n",
      " [1.00e+02 5.70e+00 2.80e+00 4.10e+00 1.30e+00]\n",
      " [1.01e+02 6.30e+00 3.30e+00 6.00e+00 2.50e+00]\n",
      " [1.02e+02 5.80e+00 2.70e+00 5.10e+00 1.90e+00]\n",
      " [1.03e+02 7.10e+00 3.00e+00 5.90e+00 2.10e+00]\n",
      " [1.04e+02 6.30e+00 2.90e+00 5.60e+00 1.80e+00]\n",
      " [1.05e+02 6.50e+00 3.00e+00 5.80e+00 2.20e+00]\n",
      " [1.06e+02 7.60e+00 3.00e+00 6.60e+00 2.10e+00]\n",
      " [1.07e+02 4.90e+00 2.50e+00 4.50e+00 1.70e+00]\n",
      " [1.08e+02 7.30e+00 2.90e+00 6.30e+00 1.80e+00]\n",
      " [1.09e+02 6.70e+00 2.50e+00 5.80e+00 1.80e+00]\n",
      " [1.10e+02 7.20e+00 3.60e+00 6.10e+00 2.50e+00]\n",
      " [1.11e+02 6.50e+00 3.20e+00 5.10e+00 2.00e+00]\n",
      " [1.12e+02 6.40e+00 2.70e+00 5.30e+00 1.90e+00]\n",
      " [1.13e+02 6.80e+00 3.00e+00 5.50e+00 2.10e+00]\n",
      " [1.14e+02 5.70e+00 2.50e+00 5.00e+00 2.00e+00]\n",
      " [1.15e+02 5.80e+00 2.80e+00 5.10e+00 2.40e+00]\n",
      " [1.16e+02 6.40e+00 3.20e+00 5.30e+00 2.30e+00]\n",
      " [1.17e+02 6.50e+00 3.00e+00 5.50e+00 1.80e+00]\n",
      " [1.18e+02 7.70e+00 3.80e+00 6.70e+00 2.20e+00]\n",
      " [1.19e+02 7.70e+00 2.60e+00 6.90e+00 2.30e+00]\n",
      " [1.20e+02 6.00e+00 2.20e+00 5.00e+00 1.50e+00]\n",
      " [1.21e+02 6.90e+00 3.20e+00 5.70e+00 2.30e+00]\n",
      " [1.22e+02 5.60e+00 2.80e+00 4.90e+00 2.00e+00]\n",
      " [1.23e+02 7.70e+00 2.80e+00 6.70e+00 2.00e+00]\n",
      " [1.24e+02 6.30e+00 2.70e+00 4.90e+00 1.80e+00]\n",
      " [1.25e+02 6.70e+00 3.30e+00 5.70e+00 2.10e+00]\n",
      " [1.26e+02 7.20e+00 3.20e+00 6.00e+00 1.80e+00]\n",
      " [1.27e+02 6.20e+00 2.80e+00 4.80e+00 1.80e+00]\n",
      " [1.28e+02 6.10e+00 3.00e+00 4.90e+00 1.80e+00]\n",
      " [1.29e+02 6.40e+00 2.80e+00 5.60e+00 2.10e+00]\n",
      " [1.30e+02 7.20e+00 3.00e+00 5.80e+00 1.60e+00]\n",
      " [1.31e+02 7.40e+00 2.80e+00 6.10e+00 1.90e+00]\n",
      " [1.32e+02 7.90e+00 3.80e+00 6.40e+00 2.00e+00]\n",
      " [1.33e+02 6.40e+00 2.80e+00 5.60e+00 2.20e+00]\n",
      " [1.34e+02 6.30e+00 2.80e+00 5.10e+00 1.50e+00]\n",
      " [1.35e+02 6.10e+00 2.60e+00 5.60e+00 1.40e+00]\n",
      " [1.36e+02 7.70e+00 3.00e+00 6.10e+00 2.30e+00]\n",
      " [1.37e+02 6.30e+00 3.40e+00 5.60e+00 2.40e+00]\n",
      " [1.38e+02 6.40e+00 3.10e+00 5.50e+00 1.80e+00]\n",
      " [1.39e+02 6.00e+00 3.00e+00 4.80e+00 1.80e+00]\n",
      " [1.40e+02 6.90e+00 3.10e+00 5.40e+00 2.10e+00]\n",
      " [1.41e+02 6.70e+00 3.10e+00 5.60e+00 2.40e+00]\n",
      " [1.42e+02 6.90e+00 3.10e+00 5.10e+00 2.30e+00]\n",
      " [1.43e+02 5.80e+00 2.70e+00 5.10e+00 1.90e+00]\n",
      " [1.44e+02 6.80e+00 3.20e+00 5.90e+00 2.30e+00]\n",
      " [1.45e+02 6.70e+00 3.30e+00 5.70e+00 2.50e+00]\n",
      " [1.46e+02 6.70e+00 3.00e+00 5.20e+00 2.30e+00]\n",
      " [1.47e+02 6.30e+00 2.50e+00 5.00e+00 1.90e+00]\n",
      " [1.48e+02 6.50e+00 3.00e+00 5.20e+00 2.00e+00]\n",
      " [1.49e+02 6.20e+00 3.40e+00 5.40e+00 2.30e+00]\n",
      " [1.50e+02 5.90e+00 3.00e+00 5.10e+00 1.80e+00]]\n",
      "['setosa' 'setosa' 'setosa' 'setosa' 'setosa' 'setosa' 'setosa' 'setosa'\n",
      " 'setosa' 'setosa' 'setosa' 'setosa' 'setosa' 'setosa' 'setosa' 'setosa'\n",
      " 'setosa' 'setosa' 'setosa' 'setosa' 'setosa' 'setosa' 'setosa' 'setosa'\n",
      " 'setosa' 'setosa' 'setosa' 'setosa' 'setosa' 'setosa' 'setosa' 'setosa'\n",
      " 'setosa' 'setosa' 'setosa' 'setosa' 'setosa' 'setosa' 'setosa' 'setosa'\n",
      " 'setosa' 'setosa' 'setosa' 'setosa' 'setosa' 'setosa' 'setosa' 'setosa'\n",
      " 'setosa' 'setosa' 'versicolor' 'versicolor' 'versicolor' 'versicolor'\n",
      " 'versicolor' 'versicolor' 'versicolor' 'versicolor' 'versicolor'\n",
      " 'versicolor' 'versicolor' 'versicolor' 'versicolor' 'versicolor'\n",
      " 'versicolor' 'versicolor' 'versicolor' 'versicolor' 'versicolor'\n",
      " 'versicolor' 'versicolor' 'versicolor' 'versicolor' 'versicolor'\n",
      " 'versicolor' 'versicolor' 'versicolor' 'versicolor' 'versicolor'\n",
      " 'versicolor' 'versicolor' 'versicolor' 'versicolor' 'versicolor'\n",
      " 'versicolor' 'versicolor' 'versicolor' 'versicolor' 'versicolor'\n",
      " 'versicolor' 'versicolor' 'versicolor' 'versicolor' 'versicolor'\n",
      " 'versicolor' 'versicolor' 'versicolor' 'versicolor' 'versicolor'\n",
      " 'versicolor' 'virginica' 'virginica' 'virginica' 'virginica' 'virginica'\n",
      " 'virginica' 'virginica' 'virginica' 'virginica' 'virginica' 'virginica'\n",
      " 'virginica' 'virginica' 'virginica' 'virginica' 'virginica' 'virginica'\n",
      " 'virginica' 'virginica' 'virginica' 'virginica' 'virginica' 'virginica'\n",
      " 'virginica' 'virginica' 'virginica' 'virginica' 'virginica' 'virginica'\n",
      " 'virginica' 'virginica' 'virginica' 'virginica' 'virginica' 'virginica'\n",
      " 'virginica' 'virginica' 'virginica' 'virginica' 'virginica' 'virginica'\n",
      " 'virginica' 'virginica' 'virginica' 'virginica' 'virginica' 'virginica'\n",
      " 'virginica' 'virginica' 'virginica']\n"
     ]
    }
   ],
   "source": [
    "import os\n",
    "from si.io.csv_file import read_csv\n",
    "\n",
    "# Usando o caminho correto no Windows\n",
    "file_path = r\"C:\\Users\\diana\\OneDrive\\Ambiente de Trabalho\\Sist. Inteligentes\\23 set\\session2-notebooks\\iris.csv\"\n",
    "# Carregando o dataset iris\n",
    "dataset = read_csv(file_path, sep=',', features=True, label=True)\n",
    "\n",
    "# Verificar se o dataset foi carregado corretamente\n",
    "print(dataset.X)\n",
    "print(dataset.y)\n"
   ]
  },
  {
   "cell_type": "markdown",
   "metadata": {},
   "source": [
    "1.2) Selecione a penúltima variável independente. Qual é a dimensão da matriz resultante?"
   ]
  },
  {
   "cell_type": "code",
   "execution_count": 2,
   "metadata": {},
   "outputs": [
    {
     "name": "stdout",
     "output_type": "stream",
     "text": [
      "Dimensão da penúltima variável independente: (150,)\n"
     ]
    }
   ],
   "source": [
    "# Selecionando a penúltima variável (penúltima coluna)\n",
    "# dataset.X : features \n",
    "penultimate_feature = dataset.X[:, -2]\n",
    "\n",
    "# Dimensão do array resultante\n",
    "print(\"Dimensão da penúltima variável independente:\", penultimate_feature.shape)\n"
   ]
  },
  {
   "cell_type": "markdown",
   "metadata": {},
   "source": [
    "1.3) Selecione as últimas 10 amostras do conjunto de dados da íris. \n",
    "Qual é a média das últimas 10 amostras para cada variável independente/caraterística?\n"
   ]
  },
  {
   "cell_type": "code",
   "execution_count": 3,
   "metadata": {},
   "outputs": [
    {
     "name": "stdout",
     "output_type": "stream",
     "text": [
      "Média das últimas 10 amostras por variável independente: [145.5    6.45   3.03   5.33   2.17]\n"
     ]
    }
   ],
   "source": [
    "# Selecionando as últimas 10 amostras\n",
    "last_10_samples = dataset.X[-10:, :]\n",
    "\n",
    "# Calculando a média para cada variável independente\n",
    "mean_last_10 = last_10_samples.mean(axis=0)\n",
    "\n",
    "print(\"Média das últimas 10 amostras por variável independente:\", mean_last_10)\n"
   ]
  },
  {
   "cell_type": "markdown",
   "metadata": {},
   "source": [
    "1.4) Selecione todas as amostras do conjunto de dados com valores menores ou iguais a 6 para todas \n",
    "as variáveis independentes/caraterísticas. Quantas amostras obtém?"
   ]
  },
  {
   "cell_type": "code",
   "execution_count": 4,
   "metadata": {},
   "outputs": [
    {
     "name": "stdout",
     "output_type": "stream",
     "text": [
      "Número de amostras com todas as variáveis <= 6: 6\n"
     ]
    }
   ],
   "source": [
    "import numpy as np\n",
    "\n",
    "# Selecionar amostras onde todas as variáveis são <= 6\n",
    "samples_less_equal_6 = dataset.X[np.all(dataset.X <= 6, axis=1)]\n",
    "\n",
    "# Quantidade de amostras selecionadas\n",
    "print(\"Número de amostras com todas as variáveis <= 6:\", samples_less_equal_6.shape[0])\n",
    "\n"
   ]
  },
  {
   "cell_type": "markdown",
   "metadata": {},
   "source": [
    "1.5) Selecione todas as amostras com uma classe/rótulo diferente de diferente de “Iris-setosa”.\n",
    " Quantas amostras obtém?"
   ]
  },
  {
   "cell_type": "code",
   "execution_count": 5,
   "metadata": {},
   "outputs": [
    {
     "name": "stdout",
     "output_type": "stream",
     "text": [
      "Número de amostras com classe diferente de 'Iris-setosa': 150\n"
     ]
    }
   ],
   "source": [
    "\n",
    "# Selecionar amostras com classe diferente de 'Iris-setosa'\n",
    "samples_not_setosa = dataset.X[dataset.y != 'Iris-setosa']\n",
    "\n",
    "# Quantidade de amostras selecionadas\n",
    "print(\"Número de amostras com classe diferente de 'Iris-setosa':\", samples_not_setosa.shape[0])\n"
   ]
  }
 ],
 "metadata": {
  "kernelspec": {
   "display_name": "Python 3",
   "language": "python",
   "name": "python3"
  },
  "language_info": {
   "codemirror_mode": {
    "name": "ipython",
    "version": 3
   },
   "file_extension": ".py",
   "mimetype": "text/x-python",
   "name": "python",
   "nbconvert_exporter": "python",
   "pygments_lexer": "ipython3",
   "version": "3.11.9"
  }
 },
 "nbformat": 4,
 "nbformat_minor": 2
}
