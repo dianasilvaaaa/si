{
 "cells": [
  {
   "cell_type": "markdown",
   "metadata": {},
   "source": [
    "Exercise 16: Build, train and evaluate a neural network.\n",
    "Based on the following instructions:\n",
    "\n",
    "- The training dataset has 32 features;\n",
    "- The task is binary classification;\n",
    "- Use the SGD optimizer;\n",
    "- Use the BinaryCrossEntropy loss;\n",
    "- Use the accuracy metric.\n",
    "- The model should contain:\n",
    "- Dense layer 1\n",
    "- ReLU activation layer 1\n",
    "- Dense layer 2\n",
    "- ReLU activation layer 2\n",
    "- Output Dense layer\n",
    "- Sigmoid activation layer\n",
    "- The dense layers should reduce the number of units to half (except the last one);\n",
    "- Train the NN for 100 epochs, with batch size of 16 with a learning rate of 0.01;\n",
    "- Test the model with k fold cross validation."
   ]
  },
  {
   "cell_type": "code",
   "execution_count": 1,
   "metadata": {},
   "outputs": [],
   "source": [
    "import numpy as np\n",
    "from si.data.dataset import Dataset\n",
    "from si.metrics.accuracy import accuracy\n",
    "from si.model_selection.cross_validate import k_fold_cross_validation\n",
    "from si.neural_networks.activation import ReLUActivation, SigmoidActivation\n",
    "from si.neural_networks.layers import DenseLayer\n",
    "from si.neural_networks.losses import BinaryCrossEntropy\n",
    "from si.neural_networks.neural_network import NeuralNetwork\n",
    "from si.neural_networks.optimizers import SGD"
   ]
  },
  {
   "cell_type": "code",
   "execution_count": 2,
   "metadata": {},
   "outputs": [],
   "source": [
    "np.random.seed(42)\n",
    "samples = 1000\n",
    "X = np.random.rand(samples,32)\n",
    "y = np.random.randint(0,2, size=(samples,))\n",
    "\n",
    "dataset = Dataset(X,y)"
   ]
  },
  {
   "cell_type": "code",
   "execution_count": 3,
   "metadata": {},
   "outputs": [
    {
     "name": "stdout",
     "output_type": "stream",
     "text": [
      "O dataset tem as seguintes dimensões: (1000, 33)\n"
     ]
    },
    {
     "data": {
      "text/plain": [
       "<bound method NDFrame.head of        feat_0    feat_1    feat_2    feat_3    feat_4    feat_5    feat_6  \\\n",
       "0    0.374540  0.950714  0.731994  0.598658  0.156019  0.155995  0.058084   \n",
       "1    0.065052  0.948886  0.965632  0.808397  0.304614  0.097672  0.684233   \n",
       "2    0.280935  0.542696  0.140924  0.802197  0.074551  0.986887  0.772245   \n",
       "3    0.522733  0.427541  0.025419  0.107891  0.031429  0.636410  0.314356   \n",
       "4    0.006952  0.510747  0.417411  0.222108  0.119865  0.337615  0.942910   \n",
       "..        ...       ...       ...       ...       ...       ...       ...   \n",
       "995  0.395254  0.667687  0.894453  0.178709  0.514664  0.118784  0.279455   \n",
       "996  0.824595  0.317135  0.004346  0.911246  0.760695  0.107252  0.701727   \n",
       "997  0.345171  0.185820  0.942025  0.461265  0.417242  0.267567  0.891585   \n",
       "998  0.846593  0.860770  0.619545  0.743934  0.358961  0.998446  0.279622   \n",
       "999  0.890542  0.454579  0.859343  0.101457  0.101819  0.548267  0.651845   \n",
       "\n",
       "       feat_7    feat_8    feat_9  ...   feat_23   feat_24   feat_25  \\\n",
       "0    0.866176  0.601115  0.708073  ...  0.366362  0.456070  0.785176   \n",
       "1    0.440152  0.122038  0.495177  ...  0.921874  0.088493  0.195983   \n",
       "2    0.198716  0.005522  0.815461  ...  0.637557  0.887213  0.472215   \n",
       "3    0.508571  0.907566  0.249292  ...  0.539342  0.807440  0.896091   \n",
       "4    0.323203  0.518791  0.703019  ...  0.239562  0.144895  0.489453   \n",
       "..        ...       ...       ...  ...       ...       ...       ...   \n",
       "995  0.685981  0.077735  0.662359  ...  0.326261  0.282204  0.541476   \n",
       "996  0.020023  0.027759  0.525823  ...  0.565474  0.644349  0.137796   \n",
       "997  0.845617  0.402990  0.030613  ...  0.950060  0.698528  0.099492   \n",
       "998  0.590007  0.282062  0.112071  ...  0.100203  0.865171  0.832066   \n",
       "999  0.152994  0.472180  0.094363  ...  0.590222  0.629351  0.343012   \n",
       "\n",
       "      feat_26   feat_27   feat_28   feat_29   feat_30   feat_31  y  \n",
       "0    0.199674  0.514234  0.592415  0.046450  0.607545  0.170524  0  \n",
       "1    0.045227  0.325330  0.388677  0.271349  0.828738  0.356753  1  \n",
       "2    0.119594  0.713245  0.760785  0.561277  0.770967  0.493796  0  \n",
       "3    0.318003  0.110052  0.227935  0.427108  0.818015  0.860731  1  \n",
       "4    0.985650  0.242055  0.672136  0.761620  0.237638  0.728216  1  \n",
       "..        ...       ...       ...       ...       ...       ... ..  \n",
       "995  0.483593  0.481967  0.088142  0.802318  0.481439  0.820906  1  \n",
       "996  0.223323  0.900715  0.699166  0.189430  0.570210  0.934761  1  \n",
       "997  0.088521  0.731598  0.215329  0.447239  0.976621  0.819907  0  \n",
       "998  0.753646  0.466058  0.757545  0.478742  0.736624  0.880110  0  \n",
       "999  0.428728  0.558097  0.839283  0.762909  0.118656  0.245554  0  \n",
       "\n",
       "[1000 rows x 33 columns]>"
      ]
     },
     "execution_count": 3,
     "metadata": {},
     "output_type": "execute_result"
    }
   ],
   "source": [
    "data = dataset.to_dataframe()\n",
    "print(f\"O dataset tem as seguintes dimensões: {data.shape}\")\n",
    "data.head"
   ]
  },
  {
   "cell_type": "markdown",
   "metadata": {},
   "source": []
  }
 ],
 "metadata": {
  "kernelspec": {
   "display_name": "Python 3",
   "language": "python",
   "name": "python3"
  },
  "language_info": {
   "codemirror_mode": {
    "name": "ipython",
    "version": 3
   },
   "file_extension": ".py",
   "mimetype": "text/x-python",
   "name": "python",
   "nbconvert_exporter": "python",
   "pygments_lexer": "ipython3",
   "version": "3.11.9"
  }
 },
 "nbformat": 4,
 "nbformat_minor": 2
}
