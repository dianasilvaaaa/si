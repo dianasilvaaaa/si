{
 "cells": [
  {
   "cell_type": "code",
   "execution_count": 1,
   "metadata": {},
   "outputs": [],
   "source": [
    "from si.io.csv_file import read_csv\n",
    "import numpy as np\n",
    "from si.model_selection.split import stratified_train_test_split"
   ]
  },
  {
   "cell_type": "code",
   "execution_count": 2,
   "metadata": {},
   "outputs": [],
   "source": [
    "\n",
    "iris = read_csv(r'C:\\Users\\diana\\OneDrive\\Ambiente de Trabalho\\Sist. Inteligentes\\Prática\\si\\datasets\\iris\\iris.csv', features=True, label=True)\n",
    "\n",
    "unique_labels, labels_counts = np.unique(iris.y,return_counts=True)"
   ]
  },
  {
   "cell_type": "code",
   "execution_count": 3,
   "metadata": {},
   "outputs": [
    {
     "name": "stdout",
     "output_type": "stream",
     "text": [
      "Iris-setosa: 33.33%\n",
      "Iris-versicolor: 33.33%\n",
      "Iris-virginica: 33.33%\n"
     ]
    }
   ],
   "source": [
    "total = np.sum(labels_counts)\n",
    "proportions = labels_counts / total *100\n",
    "\n",
    "for label,proportion in zip(unique_labels, proportions):\n",
    "    print(f\"{label}: {proportion:.2f}%\")"
   ]
  },
  {
   "cell_type": "code",
   "execution_count": 4,
   "metadata": {},
   "outputs": [],
   "source": [
    "train_dataset, test_dataset = stratified_train_test_split(iris, test_size=0.2, random_state=42)"
   ]
  },
  {
   "cell_type": "code",
   "execution_count": 5,
   "metadata": {},
   "outputs": [],
   "source": [
    "labels_train,counts_train = np.unique(train_dataset.y,return_counts=True)\n",
    "labels_test,counts_test= np.unique(test_dataset.y,return_counts=True)\n",
    "total_train = np.sum(counts_train)\n",
    "total_test = np.sum(counts_test)\n",
    "proportions_train = counts_train / total_train *100\n",
    "proportions_test = counts_test / total_test *100"
   ]
  },
  {
   "cell_type": "code",
   "execution_count": 6,
   "metadata": {},
   "outputs": [
    {
     "name": "stdout",
     "output_type": "stream",
     "text": [
      "Iris-setosa: 33.33%\n",
      "Iris-versicolor: 33.33%\n",
      "Iris-virginica: 33.33%\n"
     ]
    }
   ],
   "source": [
    "for label, proportion in zip(labels_train, proportions_train):\n",
    "    print(f\"{label}: {proportion:.2f}%\")"
   ]
  },
  {
   "cell_type": "code",
   "execution_count": 7,
   "metadata": {},
   "outputs": [
    {
     "name": "stdout",
     "output_type": "stream",
     "text": [
      "Iris-setosa: 33.33%\n",
      "Iris-versicolor: 33.33%\n",
      "Iris-virginica: 33.33%\n"
     ]
    }
   ],
   "source": [
    "for label, proportion in zip(labels_test, proportions_test):\n",
    "    print(f\"{label}: {proportion:.2f}%\")"
   ]
  },
  {
   "cell_type": "code",
   "execution_count": 12,
   "metadata": {},
   "outputs": [
    {
     "data": {
      "text/plain": [
       "(<si.data.dataset.Dataset at 0x17380dbd350>,\n",
       " <si.data.dataset.Dataset at 0x173825d7690>)"
      ]
     },
     "execution_count": 12,
     "metadata": {},
     "output_type": "execute_result"
    }
   ],
   "source": [
    "train, test = stratified_train_test_split(iris, test_size=0.2, random_state=42)\n",
    "train, test"
   ]
  },
  {
   "cell_type": "code",
   "execution_count": 13,
   "metadata": {},
   "outputs": [
    {
     "name": "stdout",
     "output_type": "stream",
     "text": [
      "Train: (120, 4)\n",
      "Test: (30, 4)\n",
      "\n",
      "Train:\n",
      "Iris-setosa: 33.33%\n",
      "Iris-versicolor: 33.33%\n",
      "Iris-virginica: 33.33%\n",
      "\n",
      "Test:\n",
      "Iris-setosa: 33.33%\n",
      "Iris-versicolor: 33.33%\n",
      "Iris-virginica: 33.33%\n"
     ]
    }
   ],
   "source": [
    "# Verificar o tamanho dos conjuntos\n",
    "print(\"Train:\", train.shape())\n",
    "print(\"Test:\", test.shape())\n",
    "\n",
    "# Calcular proporções de treino\n",
    "labels_train, counts_train = np.unique(train.y, return_counts=True)\n",
    "proportions_train = counts_train / counts_train.sum() * 100\n",
    "\n",
    "print(\"\\nTrain:\")\n",
    "for label, proportion in zip(labels_train, proportions_train):\n",
    "    print(f\"{label}: {proportion:.2f}%\")\n",
    "\n",
    "labels_test, counts_test = np.unique(test.y, return_counts=True)\n",
    "proportions_test = counts_test / counts_test.sum() * 100\n",
    "\n",
    "print(\"\\nTest:\")\n",
    "for label, proportion in zip(labels_test, proportions_test):\n",
    "    print(f\"{label}: {proportion:.2f}%\")"
   ]
  },
  {
   "cell_type": "code",
   "execution_count": 14,
   "metadata": {},
   "outputs": [
    {
     "data": {
      "text/plain": [
       "(120, 4)"
      ]
     },
     "execution_count": 14,
     "metadata": {},
     "output_type": "execute_result"
    }
   ],
   "source": [
    "train_dataset.shape()"
   ]
  },
  {
   "cell_type": "code",
   "execution_count": 15,
   "metadata": {},
   "outputs": [
    {
     "data": {
      "text/plain": [
       "(30, 4)"
      ]
     },
     "execution_count": 15,
     "metadata": {},
     "output_type": "execute_result"
    }
   ],
   "source": [
    "test_dataset.shape()"
   ]
  },
  {
   "cell_type": "markdown",
   "metadata": {},
   "source": []
  }
 ],
 "metadata": {
  "kernelspec": {
   "display_name": "Python 3",
   "language": "python",
   "name": "python3"
  },
  "language_info": {
   "codemirror_mode": {
    "name": "ipython",
    "version": 3
   },
   "file_extension": ".py",
   "mimetype": "text/x-python",
   "name": "python",
   "nbconvert_exporter": "python",
   "pygments_lexer": "ipython3",
   "version": "3.11.9"
  }
 },
 "nbformat": 4,
 "nbformat_minor": 2
}
